{
  "nbformat": 4,
  "nbformat_minor": 0,
  "metadata": {
    "kernelspec": {
      "display_name": "Python 3",
      "language": "python",
      "name": "python3"
    },
    "language_info": {
      "codemirror_mode": {
        "name": "ipython",
        "version": 3
      },
      "file_extension": ".py",
      "mimetype": "text/x-python",
      "name": "python",
      "nbconvert_exporter": "python",
      "pygments_lexer": "ipython3",
      "version": "3.8.3"
    },
    "colab": {
      "name": "Kaggle_wids.ipynb",
      "provenance": [],
      "include_colab_link": true
    }
  },
  "cells": [
    {
      "cell_type": "markdown",
      "metadata": {
        "id": "view-in-github",
        "colab_type": "text"
      },
      "source": [
        "<a href=\"https://colab.research.google.com/github/immidikalipradeep/wids/blob/main/Kaggle_wids.ipynb\" target=\"_parent\"><img src=\"https://colab.research.google.com/assets/colab-badge.svg\" alt=\"Open In Colab\"/></a>"
      ]
    },
    {
      "cell_type": "code",
      "metadata": {
        "id": "qxSmePixUMBr"
      },
      "source": [
        "import pandas as pd\n",
        "import numpy as np"
      ],
      "execution_count": 1,
      "outputs": []
    },
    {
      "cell_type": "code",
      "metadata": {
        "id": "z6WkkZ21WTmJ"
      },
      "source": [
        "!pip install -q kaggle"
      ],
      "execution_count": 2,
      "outputs": []
    },
    {
      "cell_type": "code",
      "metadata": {
        "colab": {
          "resources": {
            "http://localhost:8080/nbextensions/google.colab/files.js": {
              "data": "Ly8gQ29weXJpZ2h0IDIwMTcgR29vZ2xlIExMQwovLwovLyBMaWNlbnNlZCB1bmRlciB0aGUgQXBhY2hlIExpY2Vuc2UsIFZlcnNpb24gMi4wICh0aGUgIkxpY2Vuc2UiKTsKLy8geW91IG1heSBub3QgdXNlIHRoaXMgZmlsZSBleGNlcHQgaW4gY29tcGxpYW5jZSB3aXRoIHRoZSBMaWNlbnNlLgovLyBZb3UgbWF5IG9idGFpbiBhIGNvcHkgb2YgdGhlIExpY2Vuc2UgYXQKLy8KLy8gICAgICBodHRwOi8vd3d3LmFwYWNoZS5vcmcvbGljZW5zZXMvTElDRU5TRS0yLjAKLy8KLy8gVW5sZXNzIHJlcXVpcmVkIGJ5IGFwcGxpY2FibGUgbGF3IG9yIGFncmVlZCB0byBpbiB3cml0aW5nLCBzb2Z0d2FyZQovLyBkaXN0cmlidXRlZCB1bmRlciB0aGUgTGljZW5zZSBpcyBkaXN0cmlidXRlZCBvbiBhbiAiQVMgSVMiIEJBU0lTLAovLyBXSVRIT1VUIFdBUlJBTlRJRVMgT1IgQ09ORElUSU9OUyBPRiBBTlkgS0lORCwgZWl0aGVyIGV4cHJlc3Mgb3IgaW1wbGllZC4KLy8gU2VlIHRoZSBMaWNlbnNlIGZvciB0aGUgc3BlY2lmaWMgbGFuZ3VhZ2UgZ292ZXJuaW5nIHBlcm1pc3Npb25zIGFuZAovLyBsaW1pdGF0aW9ucyB1bmRlciB0aGUgTGljZW5zZS4KCi8qKgogKiBAZmlsZW92ZXJ2aWV3IEhlbHBlcnMgZm9yIGdvb2dsZS5jb2xhYiBQeXRob24gbW9kdWxlLgogKi8KKGZ1bmN0aW9uKHNjb3BlKSB7CmZ1bmN0aW9uIHNwYW4odGV4dCwgc3R5bGVBdHRyaWJ1dGVzID0ge30pIHsKICBjb25zdCBlbGVtZW50ID0gZG9jdW1lbnQuY3JlYXRlRWxlbWVudCgnc3BhbicpOwogIGVsZW1lbnQudGV4dENvbnRlbnQgPSB0ZXh0OwogIGZvciAoY29uc3Qga2V5IG9mIE9iamVjdC5rZXlzKHN0eWxlQXR0cmlidXRlcykpIHsKICAgIGVsZW1lbnQuc3R5bGVba2V5XSA9IHN0eWxlQXR0cmlidXRlc1trZXldOwogIH0KICByZXR1cm4gZWxlbWVudDsKfQoKLy8gTWF4IG51bWJlciBvZiBieXRlcyB3aGljaCB3aWxsIGJlIHVwbG9hZGVkIGF0IGEgdGltZS4KY29uc3QgTUFYX1BBWUxPQURfU0laRSA9IDEwMCAqIDEwMjQ7CgpmdW5jdGlvbiBfdXBsb2FkRmlsZXMoaW5wdXRJZCwgb3V0cHV0SWQpIHsKICBjb25zdCBzdGVwcyA9IHVwbG9hZEZpbGVzU3RlcChpbnB1dElkLCBvdXRwdXRJZCk7CiAgY29uc3Qgb3V0cHV0RWxlbWVudCA9IGRvY3VtZW50LmdldEVsZW1lbnRCeUlkKG91dHB1dElkKTsKICAvLyBDYWNoZSBzdGVwcyBvbiB0aGUgb3V0cHV0RWxlbWVudCB0byBtYWtlIGl0IGF2YWlsYWJsZSBmb3IgdGhlIG5leHQgY2FsbAogIC8vIHRvIHVwbG9hZEZpbGVzQ29udGludWUgZnJvbSBQeXRob24uCiAgb3V0cHV0RWxlbWVudC5zdGVwcyA9IHN0ZXBzOwoKICByZXR1cm4gX3VwbG9hZEZpbGVzQ29udGludWUob3V0cHV0SWQpOwp9CgovLyBUaGlzIGlzIHJvdWdobHkgYW4gYXN5bmMgZ2VuZXJhdG9yIChub3Qgc3VwcG9ydGVkIGluIHRoZSBicm93c2VyIHlldCksCi8vIHdoZXJlIHRoZXJlIGFyZSBtdWx0aXBsZSBhc3luY2hyb25vdXMgc3RlcHMgYW5kIHRoZSBQeXRob24gc2lkZSBpcyBnb2luZwovLyB0byBwb2xsIGZvciBjb21wbGV0aW9uIG9mIGVhY2ggc3RlcC4KLy8gVGhpcyB1c2VzIGEgUHJvbWlzZSB0byBibG9jayB0aGUgcHl0aG9uIHNpZGUgb24gY29tcGxldGlvbiBvZiBlYWNoIHN0ZXAsCi8vIHRoZW4gcGFzc2VzIHRoZSByZXN1bHQgb2YgdGhlIHByZXZpb3VzIHN0ZXAgYXMgdGhlIGlucHV0IHRvIHRoZSBuZXh0IHN0ZXAuCmZ1bmN0aW9uIF91cGxvYWRGaWxlc0NvbnRpbnVlKG91dHB1dElkKSB7CiAgY29uc3Qgb3V0cHV0RWxlbWVudCA9IGRvY3VtZW50LmdldEVsZW1lbnRCeUlkKG91dHB1dElkKTsKICBjb25zdCBzdGVwcyA9IG91dHB1dEVsZW1lbnQuc3RlcHM7CgogIGNvbnN0IG5leHQgPSBzdGVwcy5uZXh0KG91dHB1dEVsZW1lbnQubGFzdFByb21pc2VWYWx1ZSk7CiAgcmV0dXJuIFByb21pc2UucmVzb2x2ZShuZXh0LnZhbHVlLnByb21pc2UpLnRoZW4oKHZhbHVlKSA9PiB7CiAgICAvLyBDYWNoZSB0aGUgbGFzdCBwcm9taXNlIHZhbHVlIHRvIG1ha2UgaXQgYXZhaWxhYmxlIHRvIHRoZSBuZXh0CiAgICAvLyBzdGVwIG9mIHRoZSBnZW5lcmF0b3IuCiAgICBvdXRwdXRFbGVtZW50Lmxhc3RQcm9taXNlVmFsdWUgPSB2YWx1ZTsKICAgIHJldHVybiBuZXh0LnZhbHVlLnJlc3BvbnNlOwogIH0pOwp9CgovKioKICogR2VuZXJhdG9yIGZ1bmN0aW9uIHdoaWNoIGlzIGNhbGxlZCBiZXR3ZWVuIGVhY2ggYXN5bmMgc3RlcCBvZiB0aGUgdXBsb2FkCiAqIHByb2Nlc3MuCiAqIEBwYXJhbSB7c3RyaW5nfSBpbnB1dElkIEVsZW1lbnQgSUQgb2YgdGhlIGlucHV0IGZpbGUgcGlja2VyIGVsZW1lbnQuCiAqIEBwYXJhbSB7c3RyaW5nfSBvdXRwdXRJZCBFbGVtZW50IElEIG9mIHRoZSBvdXRwdXQgZGlzcGxheS4KICogQHJldHVybiB7IUl0ZXJhYmxlPCFPYmplY3Q+fSBJdGVyYWJsZSBvZiBuZXh0IHN0ZXBzLgogKi8KZnVuY3Rpb24qIHVwbG9hZEZpbGVzU3RlcChpbnB1dElkLCBvdXRwdXRJZCkgewogIGNvbnN0IGlucHV0RWxlbWVudCA9IGRvY3VtZW50LmdldEVsZW1lbnRCeUlkKGlucHV0SWQpOwogIGlucHV0RWxlbWVudC5kaXNhYmxlZCA9IGZhbHNlOwoKICBjb25zdCBvdXRwdXRFbGVtZW50ID0gZG9jdW1lbnQuZ2V0RWxlbWVudEJ5SWQob3V0cHV0SWQpOwogIG91dHB1dEVsZW1lbnQuaW5uZXJIVE1MID0gJyc7CgogIGNvbnN0IHBpY2tlZFByb21pc2UgPSBuZXcgUHJvbWlzZSgocmVzb2x2ZSkgPT4gewogICAgaW5wdXRFbGVtZW50LmFkZEV2ZW50TGlzdGVuZXIoJ2NoYW5nZScsIChlKSA9PiB7CiAgICAgIHJlc29sdmUoZS50YXJnZXQuZmlsZXMpOwogICAgfSk7CiAgfSk7CgogIGNvbnN0IGNhbmNlbCA9IGRvY3VtZW50LmNyZWF0ZUVsZW1lbnQoJ2J1dHRvbicpOwogIGlucHV0RWxlbWVudC5wYXJlbnRFbGVtZW50LmFwcGVuZENoaWxkKGNhbmNlbCk7CiAgY2FuY2VsLnRleHRDb250ZW50ID0gJ0NhbmNlbCB1cGxvYWQnOwogIGNvbnN0IGNhbmNlbFByb21pc2UgPSBuZXcgUHJvbWlzZSgocmVzb2x2ZSkgPT4gewogICAgY2FuY2VsLm9uY2xpY2sgPSAoKSA9PiB7CiAgICAgIHJlc29sdmUobnVsbCk7CiAgICB9OwogIH0pOwoKICAvLyBXYWl0IGZvciB0aGUgdXNlciB0byBwaWNrIHRoZSBmaWxlcy4KICBjb25zdCBmaWxlcyA9IHlpZWxkIHsKICAgIHByb21pc2U6IFByb21pc2UucmFjZShbcGlja2VkUHJvbWlzZSwgY2FuY2VsUHJvbWlzZV0pLAogICAgcmVzcG9uc2U6IHsKICAgICAgYWN0aW9uOiAnc3RhcnRpbmcnLAogICAgfQogIH07CgogIGNhbmNlbC5yZW1vdmUoKTsKCiAgLy8gRGlzYWJsZSB0aGUgaW5wdXQgZWxlbWVudCBzaW5jZSBmdXJ0aGVyIHBpY2tzIGFyZSBub3QgYWxsb3dlZC4KICBpbnB1dEVsZW1lbnQuZGlzYWJsZWQgPSB0cnVlOwoKICBpZiAoIWZpbGVzKSB7CiAgICByZXR1cm4gewogICAgICByZXNwb25zZTogewogICAgICAgIGFjdGlvbjogJ2NvbXBsZXRlJywKICAgICAgfQogICAgfTsKICB9CgogIGZvciAoY29uc3QgZmlsZSBvZiBmaWxlcykgewogICAgY29uc3QgbGkgPSBkb2N1bWVudC5jcmVhdGVFbGVtZW50KCdsaScpOwogICAgbGkuYXBwZW5kKHNwYW4oZmlsZS5uYW1lLCB7Zm9udFdlaWdodDogJ2JvbGQnfSkpOwogICAgbGkuYXBwZW5kKHNwYW4oCiAgICAgICAgYCgke2ZpbGUudHlwZSB8fCAnbi9hJ30pIC0gJHtmaWxlLnNpemV9IGJ5dGVzLCBgICsKICAgICAgICBgbGFzdCBtb2RpZmllZDogJHsKICAgICAgICAgICAgZmlsZS5sYXN0TW9kaWZpZWREYXRlID8gZmlsZS5sYXN0TW9kaWZpZWREYXRlLnRvTG9jYWxlRGF0ZVN0cmluZygpIDoKICAgICAgICAgICAgICAgICAgICAgICAgICAgICAgICAgICAgJ24vYSd9IC0gYCkpOwogICAgY29uc3QgcGVyY2VudCA9IHNwYW4oJzAlIGRvbmUnKTsKICAgIGxpLmFwcGVuZENoaWxkKHBlcmNlbnQpOwoKICAgIG91dHB1dEVsZW1lbnQuYXBwZW5kQ2hpbGQobGkpOwoKICAgIGNvbnN0IGZpbGVEYXRhUHJvbWlzZSA9IG5ldyBQcm9taXNlKChyZXNvbHZlKSA9PiB7CiAgICAgIGNvbnN0IHJlYWRlciA9IG5ldyBGaWxlUmVhZGVyKCk7CiAgICAgIHJlYWRlci5vbmxvYWQgPSAoZSkgPT4gewogICAgICAgIHJlc29sdmUoZS50YXJnZXQucmVzdWx0KTsKICAgICAgfTsKICAgICAgcmVhZGVyLnJlYWRBc0FycmF5QnVmZmVyKGZpbGUpOwogICAgfSk7CiAgICAvLyBXYWl0IGZvciB0aGUgZGF0YSB0byBiZSByZWFkeS4KICAgIGxldCBmaWxlRGF0YSA9IHlpZWxkIHsKICAgICAgcHJvbWlzZTogZmlsZURhdGFQcm9taXNlLAogICAgICByZXNwb25zZTogewogICAgICAgIGFjdGlvbjogJ2NvbnRpbnVlJywKICAgICAgfQogICAgfTsKCiAgICAvLyBVc2UgYSBjaHVua2VkIHNlbmRpbmcgdG8gYXZvaWQgbWVzc2FnZSBzaXplIGxpbWl0cy4gU2VlIGIvNjIxMTU2NjAuCiAgICBsZXQgcG9zaXRpb24gPSAwOwogICAgd2hpbGUgKHBvc2l0aW9uIDwgZmlsZURhdGEuYnl0ZUxlbmd0aCkgewogICAgICBjb25zdCBsZW5ndGggPSBNYXRoLm1pbihmaWxlRGF0YS5ieXRlTGVuZ3RoIC0gcG9zaXRpb24sIE1BWF9QQVlMT0FEX1NJWkUpOwogICAgICBjb25zdCBjaHVuayA9IG5ldyBVaW50OEFycmF5KGZpbGVEYXRhLCBwb3NpdGlvbiwgbGVuZ3RoKTsKICAgICAgcG9zaXRpb24gKz0gbGVuZ3RoOwoKICAgICAgY29uc3QgYmFzZTY0ID0gYnRvYShTdHJpbmcuZnJvbUNoYXJDb2RlLmFwcGx5KG51bGwsIGNodW5rKSk7CiAgICAgIHlpZWxkIHsKICAgICAgICByZXNwb25zZTogewogICAgICAgICAgYWN0aW9uOiAnYXBwZW5kJywKICAgICAgICAgIGZpbGU6IGZpbGUubmFtZSwKICAgICAgICAgIGRhdGE6IGJhc2U2NCwKICAgICAgICB9LAogICAgICB9OwogICAgICBwZXJjZW50LnRleHRDb250ZW50ID0KICAgICAgICAgIGAke01hdGgucm91bmQoKHBvc2l0aW9uIC8gZmlsZURhdGEuYnl0ZUxlbmd0aCkgKiAxMDApfSUgZG9uZWA7CiAgICB9CiAgfQoKICAvLyBBbGwgZG9uZS4KICB5aWVsZCB7CiAgICByZXNwb25zZTogewogICAgICBhY3Rpb246ICdjb21wbGV0ZScsCiAgICB9CiAgfTsKfQoKc2NvcGUuZ29vZ2xlID0gc2NvcGUuZ29vZ2xlIHx8IHt9OwpzY29wZS5nb29nbGUuY29sYWIgPSBzY29wZS5nb29nbGUuY29sYWIgfHwge307CnNjb3BlLmdvb2dsZS5jb2xhYi5fZmlsZXMgPSB7CiAgX3VwbG9hZEZpbGVzLAogIF91cGxvYWRGaWxlc0NvbnRpbnVlLAp9Owp9KShzZWxmKTsK",
              "ok": true,
              "headers": [
                [
                  "content-type",
                  "application/javascript"
                ]
              ],
              "status": 200,
              "status_text": ""
            }
          },
          "base_uri": "https://localhost:8080/",
          "height": 55
        },
        "id": "i6XfnCDiWTim",
        "outputId": "9f582070-4ee3-42a8-c7c3-ab37b2a4e2b7"
      },
      "source": [
        "from google.colab import files\r\n",
        "files.upload()"
      ],
      "execution_count": 3,
      "outputs": [
        {
          "output_type": "display_data",
          "data": {
            "text/html": [
              "\n",
              "     <input type=\"file\" id=\"files-13867cf8-1b6f-4290-9221-e0c6301c2100\" name=\"files[]\" multiple disabled\n",
              "        style=\"border:none\" />\n",
              "     <output id=\"result-13867cf8-1b6f-4290-9221-e0c6301c2100\">\n",
              "      Upload widget is only available when the cell has been executed in the\n",
              "      current browser session. Please rerun this cell to enable.\n",
              "      </output>\n",
              "      <script src=\"/nbextensions/google.colab/files.js\"></script> "
            ],
            "text/plain": [
              "<IPython.core.display.HTML object>"
            ]
          },
          "metadata": {
            "tags": []
          }
        },
        {
          "output_type": "execute_result",
          "data": {
            "text/plain": [
              "{}"
            ]
          },
          "metadata": {
            "tags": []
          },
          "execution_count": 3
        }
      ]
    },
    {
      "cell_type": "code",
      "metadata": {
        "colab": {
          "base_uri": "https://localhost:8080/"
        },
        "id": "ZYbrDAWxWTfK",
        "outputId": "06f3db4d-1d6d-4d1d-8050-bbf898d92279"
      },
      "source": [
        "!mkdir ~/.kaggle\r\n",
        "!cp kaggle.json ~/.kaggle/\r\n",
        "!chmod 600 ~/.kaggle/kaggle.json"
      ],
      "execution_count": 4,
      "outputs": [
        {
          "output_type": "stream",
          "text": [
            "mkdir: cannot create directory ‘/root/.kaggle’: File exists\n"
          ],
          "name": "stdout"
        }
      ]
    },
    {
      "cell_type": "code",
      "metadata": {
        "colab": {
          "base_uri": "https://localhost:8080/"
        },
        "id": "mJDGuqWfWTbu",
        "outputId": "33ffc472-ff04-4a79-e68d-0634760b510d"
      },
      "source": [
        "!kaggle competitions download -c widsdatathon2021"
      ],
      "execution_count": 5,
      "outputs": [
        {
          "output_type": "stream",
          "text": [
            "Warning: Looks like you're using an outdated API Version, please consider updating (server 1.5.10 / client 1.5.4)\n",
            "DataDictionaryWiDS2021.csv: Skipping, found more recently modified local copy (use --force to force download)\n",
            "UnlabeledWiDS2021.csv.zip: Skipping, found more recently modified local copy (use --force to force download)\n",
            "SampleSubmissionWiDS2021.csv: Skipping, found more recently modified local copy (use --force to force download)\n",
            "SolutionTemplateWiDS2021.csv: Skipping, found more recently modified local copy (use --force to force download)\n",
            "TrainingWiDS2021.csv.zip: Skipping, found more recently modified local copy (use --force to force download)\n"
          ],
          "name": "stdout"
        }
      ]
    },
    {
      "cell_type": "code",
      "metadata": {
        "colab": {
          "base_uri": "https://localhost:8080/"
        },
        "id": "jtjmISqWWTW-",
        "outputId": "8590bcb7-7bee-4627-ab01-22bfbe49ea12"
      },
      "source": [
        "!unzip TrainingWiDS2021.csv.zip"
      ],
      "execution_count": 6,
      "outputs": [
        {
          "output_type": "stream",
          "text": [
            "Archive:  TrainingWiDS2021.csv.zip\n",
            "replace TrainingWiDS2021.csv? [y]es, [n]o, [A]ll, [N]one, [r]ename: N\n"
          ],
          "name": "stdout"
        }
      ]
    },
    {
      "cell_type": "code",
      "metadata": {
        "colab": {
          "base_uri": "https://localhost:8080/"
        },
        "id": "Njc4gbcEWTTB",
        "outputId": "70d56364-f414-4b4c-905c-0ea1f7a7ab81"
      },
      "source": [
        "!unzip UnlabeledWiDS2021.csv.zip"
      ],
      "execution_count": 7,
      "outputs": [
        {
          "output_type": "stream",
          "text": [
            "Archive:  UnlabeledWiDS2021.csv.zip\n",
            "replace UnlabeledWiDS2021.csv? [y]es, [n]o, [A]ll, [N]one, [r]ename: N\n"
          ],
          "name": "stdout"
        }
      ]
    },
    {
      "cell_type": "code",
      "metadata": {
        "id": "B2mZzNA5UMBx",
        "colab": {
          "base_uri": "https://localhost:8080/"
        },
        "outputId": "bcee2bf0-5672-4701-c2fb-061969401170"
      },
      "source": [
        "TARGET_COL = \"diabetes_mellitus\"\n",
        "df = pd.read_csv(\"TrainingWiDS2021.csv\")\n",
        "print(df.shape)"
      ],
      "execution_count": 8,
      "outputs": [
        {
          "output_type": "stream",
          "text": [
            "(130157, 181)\n"
          ],
          "name": "stdout"
        }
      ]
    },
    {
      "cell_type": "code",
      "metadata": {
        "id": "Cw7fblTDUMBy"
      },
      "source": [
        "pd.options.display.max_rows = 4000"
      ],
      "execution_count": 9,
      "outputs": []
    },
    {
      "cell_type": "code",
      "metadata": {
        "id": "k5kMA-FQUMBz",
        "colab": {
          "base_uri": "https://localhost:8080/"
        },
        "outputId": "cfe70c04-b92a-4942-ee8c-b579cd114863"
      },
      "source": [
        "(df.corrwith(df[\"diabetes_mellitus\"])).sort_values(ascending=False)"
      ],
      "execution_count": 10,
      "outputs": [
        {
          "output_type": "execute_result",
          "data": {
            "text/plain": [
              "diabetes_mellitus              1.000000\n",
              "d1_glucose_max                 0.400742\n",
              "glucose_apache                 0.354359\n",
              "h1_glucose_max                 0.316847\n",
              "h1_glucose_min                 0.304520\n",
              "bmi                            0.169043\n",
              "weight                         0.155517\n",
              "d1_bun_max                     0.146990\n",
              "bun_apache                     0.145241\n",
              "d1_bun_min                     0.137304\n",
              "d1_glucose_min                 0.135848\n",
              "h1_bun_min                     0.135157\n",
              "h1_bun_max                     0.134985\n",
              "d1_creatinine_max              0.127929\n",
              "d1_creatinine_min              0.125828\n",
              "creatinine_apache              0.124891\n",
              "h1_creatinine_min              0.110359\n",
              "h1_creatinine_max              0.110022\n",
              "arf_apache                     0.108469\n",
              "d1_potassium_max               0.096745\n",
              "h1_potassium_max               0.095310\n",
              "h1_potassium_min               0.094480\n",
              "age                            0.081019\n",
              "d1_sysbp_noninvasive_max       0.072309\n",
              "d1_sysbp_max                   0.072037\n",
              "h1_calcium_min                 0.059982\n",
              "d1_sysbp_invasive_max          0.057202\n",
              "h1_calcium_max                 0.056036\n",
              "h1_sysbp_noninvasive_max       0.046375\n",
              "h1_sysbp_max                   0.046033\n",
              "d1_calcium_max                 0.044614\n",
              "d1_potassium_min               0.038055\n",
              "h1_sysbp_invasive_max          0.030874\n",
              "h1_platelets_min               0.029442\n",
              "h1_platelets_max               0.028852\n",
              "h1_sysbp_noninvasive_min       0.028604\n",
              "h1_inr_min                     0.028445\n",
              "d1_inr_min                     0.028445\n",
              "d1_sysbp_noninvasive_min       0.027087\n",
              "d1_sysbp_min                   0.027004\n",
              "h1_sysbp_min                   0.026400\n",
              "d1_platelets_min               0.024017\n",
              "gcs_eyes_apache                0.023841\n",
              "d1_calcium_min                 0.023618\n",
              "gcs_motor_apache               0.023133\n",
              "d1_platelets_max               0.022651\n",
              "d1_inr_max                     0.022427\n",
              "h1_inr_max                     0.022427\n",
              "pre_icu_los_days               0.022141\n",
              "gcs_verbal_apache              0.020166\n",
              "d1_mbp_noninvasive_max         0.019706\n",
              "d1_mbp_max                     0.018759\n",
              "d1_heartrate_min               0.017990\n",
              "h1_wbc_max                     0.015621\n",
              "h1_wbc_min                     0.015329\n",
              "cirrhosis                      0.015179\n",
              "urineoutput_apache             0.014848\n",
              "h1_spo2_max                    0.014841\n",
              "d1_spo2_max                    0.014228\n",
              "ventilated_apache              0.011903\n",
              "d1_wbc_min                     0.011301\n",
              "hepatic_failure                0.009535\n",
              "d1_sysbp_invasive_min          0.008890\n",
              "paco2_apache                   0.007982\n",
              "paco2_for_ph_apache            0.007982\n",
              "wbc_apache                     0.006774\n",
              "d1_wbc_max                     0.006589\n",
              "d1_resprate_max                0.006559\n",
              "h1_resprate_max                0.003983\n",
              "d1_arterial_pco2_min           0.003861\n",
              "d1_spo2_min                    0.003860\n",
              "apache_2_diagnosis             0.003797\n",
              "leukemia                       0.003574\n",
              "d1_arterial_pco2_max           0.002720\n",
              "map_apache                     0.002367\n",
              "h1_heartrate_min               0.002278\n",
              "hospital_id                    0.001937\n",
              "d1_mbp_invasive_max            0.001672\n",
              "h1_lactate_max                 0.001297\n",
              "h1_lactate_min                 0.001152\n",
              "h1_spo2_min                    0.001041\n",
              "lymphoma                      -0.000253\n",
              "intubated_apache              -0.000318\n",
              "h1_arterial_pco2_max          -0.001164\n",
              "encounter_id                  -0.002007\n",
              "immunosuppression             -0.003022\n",
              "h1_sysbp_invasive_min         -0.003023\n",
              "d1_lactate_min                -0.003085\n",
              "h1_mbp_noninvasive_max        -0.003718\n",
              "height                        -0.004302\n",
              "h1_resprate_min               -0.004558\n",
              "elective_surgery              -0.004910\n",
              "d1_lactate_max                -0.005099\n",
              "h1_arterial_pco2_min          -0.005266\n",
              "h1_mbp_max                    -0.005506\n",
              "d1_temp_min                   -0.006114\n",
              "temp_apache                   -0.006149\n",
              "h1_temp_max                   -0.006211\n",
              "resprate_apache               -0.006736\n",
              "h1_temp_min                   -0.007665\n",
              "d1_hco3_max                   -0.008578\n",
              "d1_temp_max                   -0.008597\n",
              "apache_3j_diagnosis           -0.009536\n",
              "h1_heartrate_max              -0.010310\n",
              "aids                          -0.010464\n",
              "h1_albumin_min                -0.010990\n",
              "h1_albumin_max                -0.011122\n",
              "apache_post_operative         -0.011761\n",
              "fio2_apache                   -0.012677\n",
              "gcs_unable_apache             -0.012756\n",
              "solid_tumor_with_metastasis   -0.013190\n",
              "d1_pao2fio2ratio_max          -0.014904\n",
              "d1_diasbp_noninvasive_max     -0.015147\n",
              "d1_diasbp_max                 -0.016357\n",
              "d1_mbp_noninvasive_min        -0.016452\n",
              "heart_rate_apache             -0.016501\n",
              "icu_id                        -0.016913\n",
              "d1_sodium_max                 -0.017449\n",
              "d1_mbp_min                    -0.017479\n",
              "d1_pao2fio2ratio_min          -0.019514\n",
              "Unnamed: 0                    -0.019601\n",
              "h1_mbp_noninvasive_min        -0.019791\n",
              "ph_apache                     -0.020751\n",
              "d1_albumin_max                -0.022031\n",
              "h1_mbp_invasive_max           -0.023021\n",
              "d1_arterial_ph_max            -0.023384\n",
              "d1_resprate_min               -0.023453\n",
              "h1_mbp_min                    -0.023492\n",
              "d1_albumin_min                -0.023808\n",
              "d1_heartrate_max              -0.023909\n",
              "albumin_apache                -0.024742\n",
              "h1_arterial_ph_max            -0.029579\n",
              "h1_arterial_po2_max           -0.029863\n",
              "d1_arterial_po2_max           -0.030414\n",
              "d1_arterial_ph_min            -0.032073\n",
              "h1_pao2fio2ratio_max          -0.033157\n",
              "h1_bilirubin_min              -0.034341\n",
              "h1_bilirubin_max              -0.034426\n",
              "h1_arterial_ph_min            -0.034520\n",
              "d1_arterial_po2_min           -0.035919\n",
              "h1_pao2fio2ratio_min          -0.037454\n",
              "pao2_apache                   -0.038120\n",
              "h1_sodium_min                 -0.038786\n",
              "d1_bilirubin_min              -0.039504\n",
              "d1_bilirubin_max              -0.040110\n",
              "h1_sodium_max                 -0.040360\n",
              "h1_diasbp_noninvasive_max     -0.040869\n",
              "bilirubin_apache              -0.041216\n",
              "h1_arterial_po2_min           -0.041235\n",
              "sodium_apache                 -0.042209\n",
              "d1_mbp_invasive_min           -0.043885\n",
              "h1_diasbp_max                 -0.043969\n",
              "d1_diasbp_noninvasive_min     -0.049124\n",
              "d1_hco3_min                   -0.049152\n",
              "d1_diasbp_min                 -0.049934\n",
              "d1_sodium_min                 -0.050550\n",
              "h1_hematocrit_min             -0.051475\n",
              "d1_hematocrit_min             -0.053127\n",
              "hematocrit_apache             -0.053475\n",
              "h1_hematocrit_max             -0.053745\n",
              "d1_diasbp_invasive_max        -0.055975\n",
              "h1_diasbp_noninvasive_min     -0.059033\n",
              "h1_diasbp_min                 -0.060896\n",
              "d1_hemaglobin_min             -0.062335\n",
              "h1_hemaglobin_max             -0.063734\n",
              "h1_mbp_invasive_min           -0.065732\n",
              "h1_hemaglobin_min             -0.065774\n",
              "d1_hematocrit_max             -0.067271\n",
              "d1_hemaglobin_max             -0.078801\n",
              "d1_diasbp_invasive_min        -0.084994\n",
              "h1_hco3_min                   -0.086548\n",
              "h1_hco3_max                   -0.086883\n",
              "h1_diasbp_invasive_max        -0.088664\n",
              "h1_diasbp_invasive_min        -0.103672\n",
              "readmission_status                  NaN\n",
              "dtype: float64"
            ]
          },
          "metadata": {
            "tags": []
          },
          "execution_count": 10
        }
      ]
    },
    {
      "cell_type": "code",
      "metadata": {
        "id": "r9P8GP26UMBz",
        "colab": {
          "base_uri": "https://localhost:8080/"
        },
        "outputId": "14fb101e-d8c0-4eac-acdf-c4a562d50e2b"
      },
      "source": [
        "x=df[[\"d1_glucose_max\",\"glucose_apache\",\"h1_glucose_max\",\"h1_glucose_min\",\"bmi\",\"weight\",\"d1_bun_max\",\n",
        "          \"bun_apache\",\"d1_bun_min\",\"d1_glucose_min\",\"h1_bun_min\",\"h1_bun_max\",\"d1_creatinine_max\",\n",
        "          \"d1_creatinine_min\",\"creatinine_apache\",\"h1_creatinine_min\",\"h1_creatinine_max\"]].values\n",
        "x.shape"
      ],
      "execution_count": 11,
      "outputs": [
        {
          "output_type": "execute_result",
          "data": {
            "text/plain": [
              "(130157, 17)"
            ]
          },
          "metadata": {
            "tags": []
          },
          "execution_count": 11
        }
      ]
    },
    {
      "cell_type": "code",
      "metadata": {
        "id": "QTb3l7d9UMB0",
        "colab": {
          "base_uri": "https://localhost:8080/"
        },
        "outputId": "1c597fad-334c-46c1-bab2-3a4ec1e4d71f"
      },
      "source": [
        "y=df[\"diabetes_mellitus\"]\n",
        "y.shape"
      ],
      "execution_count": 12,
      "outputs": [
        {
          "output_type": "execute_result",
          "data": {
            "text/plain": [
              "(130157,)"
            ]
          },
          "metadata": {
            "tags": []
          },
          "execution_count": 12
        }
      ]
    },
    {
      "cell_type": "code",
      "metadata": {
        "id": "8wVjqF6XUMB0"
      },
      "source": [
        "x_df=df[[\"d1_glucose_max\",\"glucose_apache\",\"h1_glucose_max\",\"h1_glucose_min\",\"bmi\",\"weight\",\"d1_bun_max\",\n",
        "          \"bun_apache\",\"d1_bun_min\",\"d1_glucose_min\",\"h1_bun_min\",\"h1_bun_max\",\"d1_creatinine_max\",\n",
        "          \"d1_creatinine_min\",\"creatinine_apache\",\"h1_creatinine_min\",\"h1_creatinine_max\"]]"
      ],
      "execution_count": 13,
      "outputs": []
    },
    {
      "cell_type": "code",
      "metadata": {
        "id": "4oel086OUMB0",
        "colab": {
          "base_uri": "https://localhost:8080/",
          "height": 596
        },
        "outputId": "19d5c4b0-933b-4489-e944-b5817618dd8b"
      },
      "source": [
        "x_df.corr()"
      ],
      "execution_count": 14,
      "outputs": [
        {
          "output_type": "execute_result",
          "data": {
            "text/html": [
              "<div>\n",
              "<style scoped>\n",
              "    .dataframe tbody tr th:only-of-type {\n",
              "        vertical-align: middle;\n",
              "    }\n",
              "\n",
              "    .dataframe tbody tr th {\n",
              "        vertical-align: top;\n",
              "    }\n",
              "\n",
              "    .dataframe thead th {\n",
              "        text-align: right;\n",
              "    }\n",
              "</style>\n",
              "<table border=\"1\" class=\"dataframe\">\n",
              "  <thead>\n",
              "    <tr style=\"text-align: right;\">\n",
              "      <th></th>\n",
              "      <th>d1_glucose_max</th>\n",
              "      <th>glucose_apache</th>\n",
              "      <th>h1_glucose_max</th>\n",
              "      <th>h1_glucose_min</th>\n",
              "      <th>bmi</th>\n",
              "      <th>weight</th>\n",
              "      <th>d1_bun_max</th>\n",
              "      <th>bun_apache</th>\n",
              "      <th>d1_bun_min</th>\n",
              "      <th>d1_glucose_min</th>\n",
              "      <th>h1_bun_min</th>\n",
              "      <th>h1_bun_max</th>\n",
              "      <th>d1_creatinine_max</th>\n",
              "      <th>d1_creatinine_min</th>\n",
              "      <th>creatinine_apache</th>\n",
              "      <th>h1_creatinine_min</th>\n",
              "      <th>h1_creatinine_max</th>\n",
              "    </tr>\n",
              "  </thead>\n",
              "  <tbody>\n",
              "    <tr>\n",
              "      <th>d1_glucose_max</th>\n",
              "      <td>1.000000</td>\n",
              "      <td>0.923322</td>\n",
              "      <td>0.874119</td>\n",
              "      <td>0.838245</td>\n",
              "      <td>0.099016</td>\n",
              "      <td>0.088600</td>\n",
              "      <td>0.184887</td>\n",
              "      <td>0.177838</td>\n",
              "      <td>0.137164</td>\n",
              "      <td>0.383060</td>\n",
              "      <td>0.177327</td>\n",
              "      <td>0.177887</td>\n",
              "      <td>0.116376</td>\n",
              "      <td>0.079576</td>\n",
              "      <td>0.106403</td>\n",
              "      <td>0.107918</td>\n",
              "      <td>0.108331</td>\n",
              "    </tr>\n",
              "    <tr>\n",
              "      <th>glucose_apache</th>\n",
              "      <td>0.923322</td>\n",
              "      <td>1.000000</td>\n",
              "      <td>0.832176</td>\n",
              "      <td>0.822015</td>\n",
              "      <td>0.101687</td>\n",
              "      <td>0.092489</td>\n",
              "      <td>0.148887</td>\n",
              "      <td>0.149821</td>\n",
              "      <td>0.111925</td>\n",
              "      <td>0.476117</td>\n",
              "      <td>0.154020</td>\n",
              "      <td>0.154439</td>\n",
              "      <td>0.076659</td>\n",
              "      <td>0.048251</td>\n",
              "      <td>0.074288</td>\n",
              "      <td>0.081749</td>\n",
              "      <td>0.081971</td>\n",
              "    </tr>\n",
              "    <tr>\n",
              "      <th>h1_glucose_max</th>\n",
              "      <td>0.874119</td>\n",
              "      <td>0.832176</td>\n",
              "      <td>1.000000</td>\n",
              "      <td>0.963151</td>\n",
              "      <td>0.067146</td>\n",
              "      <td>0.063356</td>\n",
              "      <td>0.126812</td>\n",
              "      <td>0.121777</td>\n",
              "      <td>0.079132</td>\n",
              "      <td>0.369663</td>\n",
              "      <td>0.147584</td>\n",
              "      <td>0.148244</td>\n",
              "      <td>0.054065</td>\n",
              "      <td>0.021461</td>\n",
              "      <td>0.046473</td>\n",
              "      <td>0.070582</td>\n",
              "      <td>0.071116</td>\n",
              "    </tr>\n",
              "    <tr>\n",
              "      <th>h1_glucose_min</th>\n",
              "      <td>0.838245</td>\n",
              "      <td>0.822015</td>\n",
              "      <td>0.963151</td>\n",
              "      <td>1.000000</td>\n",
              "      <td>0.076737</td>\n",
              "      <td>0.073667</td>\n",
              "      <td>0.125653</td>\n",
              "      <td>0.122376</td>\n",
              "      <td>0.085693</td>\n",
              "      <td>0.424491</td>\n",
              "      <td>0.148080</td>\n",
              "      <td>0.148213</td>\n",
              "      <td>0.047297</td>\n",
              "      <td>0.019540</td>\n",
              "      <td>0.041775</td>\n",
              "      <td>0.065892</td>\n",
              "      <td>0.065918</td>\n",
              "    </tr>\n",
              "    <tr>\n",
              "      <th>bmi</th>\n",
              "      <td>0.099016</td>\n",
              "      <td>0.101687</td>\n",
              "      <td>0.067146</td>\n",
              "      <td>0.076737</td>\n",
              "      <td>1.000000</td>\n",
              "      <td>0.878656</td>\n",
              "      <td>0.049047</td>\n",
              "      <td>0.049204</td>\n",
              "      <td>0.054541</td>\n",
              "      <td>0.131502</td>\n",
              "      <td>0.046509</td>\n",
              "      <td>0.046452</td>\n",
              "      <td>0.068879</td>\n",
              "      <td>0.070698</td>\n",
              "      <td>0.070648</td>\n",
              "      <td>0.063925</td>\n",
              "      <td>0.063845</td>\n",
              "    </tr>\n",
              "    <tr>\n",
              "      <th>weight</th>\n",
              "      <td>0.088600</td>\n",
              "      <td>0.092489</td>\n",
              "      <td>0.063356</td>\n",
              "      <td>0.073667</td>\n",
              "      <td>0.878656</td>\n",
              "      <td>1.000000</td>\n",
              "      <td>0.050998</td>\n",
              "      <td>0.051537</td>\n",
              "      <td>0.055889</td>\n",
              "      <td>0.131325</td>\n",
              "      <td>0.050429</td>\n",
              "      <td>0.050282</td>\n",
              "      <td>0.085353</td>\n",
              "      <td>0.087195</td>\n",
              "      <td>0.087927</td>\n",
              "      <td>0.076719</td>\n",
              "      <td>0.076605</td>\n",
              "    </tr>\n",
              "    <tr>\n",
              "      <th>d1_bun_max</th>\n",
              "      <td>0.184887</td>\n",
              "      <td>0.148887</td>\n",
              "      <td>0.126812</td>\n",
              "      <td>0.125653</td>\n",
              "      <td>0.049047</td>\n",
              "      <td>0.050998</td>\n",
              "      <td>1.000000</td>\n",
              "      <td>0.986554</td>\n",
              "      <td>0.966518</td>\n",
              "      <td>0.004986</td>\n",
              "      <td>0.980532</td>\n",
              "      <td>0.980808</td>\n",
              "      <td>0.685037</td>\n",
              "      <td>0.661432</td>\n",
              "      <td>0.686441</td>\n",
              "      <td>0.709397</td>\n",
              "      <td>0.709371</td>\n",
              "    </tr>\n",
              "    <tr>\n",
              "      <th>bun_apache</th>\n",
              "      <td>0.177838</td>\n",
              "      <td>0.149821</td>\n",
              "      <td>0.121777</td>\n",
              "      <td>0.122376</td>\n",
              "      <td>0.049204</td>\n",
              "      <td>0.051537</td>\n",
              "      <td>0.986554</td>\n",
              "      <td>1.000000</td>\n",
              "      <td>0.965960</td>\n",
              "      <td>0.002571</td>\n",
              "      <td>0.973405</td>\n",
              "      <td>0.973250</td>\n",
              "      <td>0.682957</td>\n",
              "      <td>0.663078</td>\n",
              "      <td>0.687038</td>\n",
              "      <td>0.703598</td>\n",
              "      <td>0.703113</td>\n",
              "    </tr>\n",
              "    <tr>\n",
              "      <th>d1_bun_min</th>\n",
              "      <td>0.137164</td>\n",
              "      <td>0.111925</td>\n",
              "      <td>0.079132</td>\n",
              "      <td>0.085693</td>\n",
              "      <td>0.054541</td>\n",
              "      <td>0.055889</td>\n",
              "      <td>0.966518</td>\n",
              "      <td>0.965960</td>\n",
              "      <td>1.000000</td>\n",
              "      <td>0.024555</td>\n",
              "      <td>0.946554</td>\n",
              "      <td>0.946282</td>\n",
              "      <td>0.643915</td>\n",
              "      <td>0.665464</td>\n",
              "      <td>0.649916</td>\n",
              "      <td>0.648458</td>\n",
              "      <td>0.647839</td>\n",
              "    </tr>\n",
              "    <tr>\n",
              "      <th>d1_glucose_min</th>\n",
              "      <td>0.383060</td>\n",
              "      <td>0.476117</td>\n",
              "      <td>0.369663</td>\n",
              "      <td>0.424491</td>\n",
              "      <td>0.131502</td>\n",
              "      <td>0.131325</td>\n",
              "      <td>0.004986</td>\n",
              "      <td>0.002571</td>\n",
              "      <td>0.024555</td>\n",
              "      <td>1.000000</td>\n",
              "      <td>0.015710</td>\n",
              "      <td>0.015460</td>\n",
              "      <td>-0.058909</td>\n",
              "      <td>-0.045560</td>\n",
              "      <td>-0.056753</td>\n",
              "      <td>-0.039582</td>\n",
              "      <td>-0.039987</td>\n",
              "    </tr>\n",
              "    <tr>\n",
              "      <th>h1_bun_min</th>\n",
              "      <td>0.177327</td>\n",
              "      <td>0.154020</td>\n",
              "      <td>0.147584</td>\n",
              "      <td>0.148080</td>\n",
              "      <td>0.046509</td>\n",
              "      <td>0.050429</td>\n",
              "      <td>0.980532</td>\n",
              "      <td>0.973405</td>\n",
              "      <td>0.946554</td>\n",
              "      <td>0.015710</td>\n",
              "      <td>1.000000</td>\n",
              "      <td>0.999711</td>\n",
              "      <td>0.695967</td>\n",
              "      <td>0.671578</td>\n",
              "      <td>0.696656</td>\n",
              "      <td>0.710810</td>\n",
              "      <td>0.710245</td>\n",
              "    </tr>\n",
              "    <tr>\n",
              "      <th>h1_bun_max</th>\n",
              "      <td>0.177887</td>\n",
              "      <td>0.154439</td>\n",
              "      <td>0.148244</td>\n",
              "      <td>0.148213</td>\n",
              "      <td>0.046452</td>\n",
              "      <td>0.050282</td>\n",
              "      <td>0.980808</td>\n",
              "      <td>0.973250</td>\n",
              "      <td>0.946282</td>\n",
              "      <td>0.015460</td>\n",
              "      <td>0.999711</td>\n",
              "      <td>1.000000</td>\n",
              "      <td>0.696367</td>\n",
              "      <td>0.671441</td>\n",
              "      <td>0.696656</td>\n",
              "      <td>0.710645</td>\n",
              "      <td>0.710661</td>\n",
              "    </tr>\n",
              "    <tr>\n",
              "      <th>d1_creatinine_max</th>\n",
              "      <td>0.116376</td>\n",
              "      <td>0.076659</td>\n",
              "      <td>0.054065</td>\n",
              "      <td>0.047297</td>\n",
              "      <td>0.068879</td>\n",
              "      <td>0.085353</td>\n",
              "      <td>0.685037</td>\n",
              "      <td>0.682957</td>\n",
              "      <td>0.643915</td>\n",
              "      <td>-0.058909</td>\n",
              "      <td>0.695967</td>\n",
              "      <td>0.696367</td>\n",
              "      <td>1.000000</td>\n",
              "      <td>0.968272</td>\n",
              "      <td>0.993402</td>\n",
              "      <td>0.987937</td>\n",
              "      <td>0.988316</td>\n",
              "    </tr>\n",
              "    <tr>\n",
              "      <th>d1_creatinine_min</th>\n",
              "      <td>0.079576</td>\n",
              "      <td>0.048251</td>\n",
              "      <td>0.021461</td>\n",
              "      <td>0.019540</td>\n",
              "      <td>0.070698</td>\n",
              "      <td>0.087195</td>\n",
              "      <td>0.661432</td>\n",
              "      <td>0.663078</td>\n",
              "      <td>0.665464</td>\n",
              "      <td>-0.045560</td>\n",
              "      <td>0.671578</td>\n",
              "      <td>0.671441</td>\n",
              "      <td>0.968272</td>\n",
              "      <td>1.000000</td>\n",
              "      <td>0.968595</td>\n",
              "      <td>0.950236</td>\n",
              "      <td>0.949800</td>\n",
              "    </tr>\n",
              "    <tr>\n",
              "      <th>creatinine_apache</th>\n",
              "      <td>0.106403</td>\n",
              "      <td>0.074288</td>\n",
              "      <td>0.046473</td>\n",
              "      <td>0.041775</td>\n",
              "      <td>0.070648</td>\n",
              "      <td>0.087927</td>\n",
              "      <td>0.686441</td>\n",
              "      <td>0.687038</td>\n",
              "      <td>0.649916</td>\n",
              "      <td>-0.056753</td>\n",
              "      <td>0.696656</td>\n",
              "      <td>0.696656</td>\n",
              "      <td>0.993402</td>\n",
              "      <td>0.968595</td>\n",
              "      <td>1.000000</td>\n",
              "      <td>0.979137</td>\n",
              "      <td>0.978902</td>\n",
              "    </tr>\n",
              "    <tr>\n",
              "      <th>h1_creatinine_min</th>\n",
              "      <td>0.107918</td>\n",
              "      <td>0.081749</td>\n",
              "      <td>0.070582</td>\n",
              "      <td>0.065892</td>\n",
              "      <td>0.063925</td>\n",
              "      <td>0.076719</td>\n",
              "      <td>0.709397</td>\n",
              "      <td>0.703598</td>\n",
              "      <td>0.648458</td>\n",
              "      <td>-0.039582</td>\n",
              "      <td>0.710810</td>\n",
              "      <td>0.710645</td>\n",
              "      <td>0.987937</td>\n",
              "      <td>0.950236</td>\n",
              "      <td>0.979137</td>\n",
              "      <td>1.000000</td>\n",
              "      <td>0.999570</td>\n",
              "    </tr>\n",
              "    <tr>\n",
              "      <th>h1_creatinine_max</th>\n",
              "      <td>0.108331</td>\n",
              "      <td>0.081971</td>\n",
              "      <td>0.071116</td>\n",
              "      <td>0.065918</td>\n",
              "      <td>0.063845</td>\n",
              "      <td>0.076605</td>\n",
              "      <td>0.709371</td>\n",
              "      <td>0.703113</td>\n",
              "      <td>0.647839</td>\n",
              "      <td>-0.039987</td>\n",
              "      <td>0.710245</td>\n",
              "      <td>0.710661</td>\n",
              "      <td>0.988316</td>\n",
              "      <td>0.949800</td>\n",
              "      <td>0.978902</td>\n",
              "      <td>0.999570</td>\n",
              "      <td>1.000000</td>\n",
              "    </tr>\n",
              "  </tbody>\n",
              "</table>\n",
              "</div>"
            ],
            "text/plain": [
              "                   d1_glucose_max  ...  h1_creatinine_max\n",
              "d1_glucose_max           1.000000  ...           0.108331\n",
              "glucose_apache           0.923322  ...           0.081971\n",
              "h1_glucose_max           0.874119  ...           0.071116\n",
              "h1_glucose_min           0.838245  ...           0.065918\n",
              "bmi                      0.099016  ...           0.063845\n",
              "weight                   0.088600  ...           0.076605\n",
              "d1_bun_max               0.184887  ...           0.709371\n",
              "bun_apache               0.177838  ...           0.703113\n",
              "d1_bun_min               0.137164  ...           0.647839\n",
              "d1_glucose_min           0.383060  ...          -0.039987\n",
              "h1_bun_min               0.177327  ...           0.710245\n",
              "h1_bun_max               0.177887  ...           0.710661\n",
              "d1_creatinine_max        0.116376  ...           0.988316\n",
              "d1_creatinine_min        0.079576  ...           0.949800\n",
              "creatinine_apache        0.106403  ...           0.978902\n",
              "h1_creatinine_min        0.107918  ...           0.999570\n",
              "h1_creatinine_max        0.108331  ...           1.000000\n",
              "\n",
              "[17 rows x 17 columns]"
            ]
          },
          "metadata": {
            "tags": []
          },
          "execution_count": 14
        }
      ]
    },
    {
      "cell_type": "code",
      "metadata": {
        "id": "JTK70vuyUMB1",
        "colab": {
          "base_uri": "https://localhost:8080/"
        },
        "outputId": "a04c657b-4f69-4475-c2a5-52d587c00232"
      },
      "source": [
        "type(x_df)"
      ],
      "execution_count": 15,
      "outputs": [
        {
          "output_type": "execute_result",
          "data": {
            "text/plain": [
              "pandas.core.frame.DataFrame"
            ]
          },
          "metadata": {
            "tags": []
          },
          "execution_count": 15
        }
      ]
    },
    {
      "cell_type": "code",
      "metadata": {
        "id": "FO6vFBcKUMB1",
        "colab": {
          "base_uri": "https://localhost:8080/"
        },
        "outputId": "96250f02-ffe8-4f74-9ae4-820dfcc07516"
      },
      "source": [
        "x_df.isna().any()"
      ],
      "execution_count": 16,
      "outputs": [
        {
          "output_type": "execute_result",
          "data": {
            "text/plain": [
              "d1_glucose_max       True\n",
              "glucose_apache       True\n",
              "h1_glucose_max       True\n",
              "h1_glucose_min       True\n",
              "bmi                  True\n",
              "weight               True\n",
              "d1_bun_max           True\n",
              "bun_apache           True\n",
              "d1_bun_min           True\n",
              "d1_glucose_min       True\n",
              "h1_bun_min           True\n",
              "h1_bun_max           True\n",
              "d1_creatinine_max    True\n",
              "d1_creatinine_min    True\n",
              "creatinine_apache    True\n",
              "h1_creatinine_min    True\n",
              "h1_creatinine_max    True\n",
              "dtype: bool"
            ]
          },
          "metadata": {
            "tags": []
          },
          "execution_count": 16
        }
      ]
    },
    {
      "cell_type": "code",
      "metadata": {
        "id": "uLYdGhbKUMB2",
        "colab": {
          "base_uri": "https://localhost:8080/",
          "height": 317
        },
        "outputId": "b94b375f-9aeb-492c-e9e4-37a6c36b6a53"
      },
      "source": [
        "x_df.describe()"
      ],
      "execution_count": 17,
      "outputs": [
        {
          "output_type": "execute_result",
          "data": {
            "text/html": [
              "<div>\n",
              "<style scoped>\n",
              "    .dataframe tbody tr th:only-of-type {\n",
              "        vertical-align: middle;\n",
              "    }\n",
              "\n",
              "    .dataframe tbody tr th {\n",
              "        vertical-align: top;\n",
              "    }\n",
              "\n",
              "    .dataframe thead th {\n",
              "        text-align: right;\n",
              "    }\n",
              "</style>\n",
              "<table border=\"1\" class=\"dataframe\">\n",
              "  <thead>\n",
              "    <tr style=\"text-align: right;\">\n",
              "      <th></th>\n",
              "      <th>d1_glucose_max</th>\n",
              "      <th>glucose_apache</th>\n",
              "      <th>h1_glucose_max</th>\n",
              "      <th>h1_glucose_min</th>\n",
              "      <th>bmi</th>\n",
              "      <th>weight</th>\n",
              "      <th>d1_bun_max</th>\n",
              "      <th>bun_apache</th>\n",
              "      <th>d1_bun_min</th>\n",
              "      <th>d1_glucose_min</th>\n",
              "      <th>h1_bun_min</th>\n",
              "      <th>h1_bun_max</th>\n",
              "      <th>d1_creatinine_max</th>\n",
              "      <th>d1_creatinine_min</th>\n",
              "      <th>creatinine_apache</th>\n",
              "      <th>h1_creatinine_min</th>\n",
              "      <th>h1_creatinine_max</th>\n",
              "    </tr>\n",
              "  </thead>\n",
              "  <tbody>\n",
              "    <tr>\n",
              "      <th>count</th>\n",
              "      <td>121914.000000</td>\n",
              "      <td>115461.000000</td>\n",
              "      <td>55084.000000</td>\n",
              "      <td>55084.000000</td>\n",
              "      <td>125667.000000</td>\n",
              "      <td>126694.000000</td>\n",
              "      <td>116423.000000</td>\n",
              "      <td>104746.000000</td>\n",
              "      <td>116423.000000</td>\n",
              "      <td>121914.000000</td>\n",
              "      <td>25167.000000</td>\n",
              "      <td>25167.000000</td>\n",
              "      <td>116884.000000</td>\n",
              "      <td>116884.000000</td>\n",
              "      <td>105275.000000</td>\n",
              "      <td>25373.000000</td>\n",
              "      <td>25373.000000</td>\n",
              "    </tr>\n",
              "    <tr>\n",
              "      <th>mean</th>\n",
              "      <td>174.149802</td>\n",
              "      <td>160.141416</td>\n",
              "      <td>167.702625</td>\n",
              "      <td>158.908794</td>\n",
              "      <td>29.110260</td>\n",
              "      <td>83.791104</td>\n",
              "      <td>25.578808</td>\n",
              "      <td>25.718070</td>\n",
              "      <td>23.554154</td>\n",
              "      <td>114.440310</td>\n",
              "      <td>25.606374</td>\n",
              "      <td>25.631220</td>\n",
              "      <td>1.493531</td>\n",
              "      <td>1.363795</td>\n",
              "      <td>1.481629</td>\n",
              "      <td>1.524339</td>\n",
              "      <td>1.526582</td>\n",
              "    </tr>\n",
              "    <tr>\n",
              "      <th>std</th>\n",
              "      <td>86.545466</td>\n",
              "      <td>90.701327</td>\n",
              "      <td>94.033461</td>\n",
              "      <td>88.298827</td>\n",
              "      <td>8.262776</td>\n",
              "      <td>24.963063</td>\n",
              "      <td>20.495927</td>\n",
              "      <td>20.690041</td>\n",
              "      <td>18.708332</td>\n",
              "      <td>38.217682</td>\n",
              "      <td>21.360676</td>\n",
              "      <td>21.377589</td>\n",
              "      <td>1.525906</td>\n",
              "      <td>1.341642</td>\n",
              "      <td>1.543535</td>\n",
              "      <td>1.570070</td>\n",
              "      <td>1.572771</td>\n",
              "    </tr>\n",
              "    <tr>\n",
              "      <th>min</th>\n",
              "      <td>73.000000</td>\n",
              "      <td>39.000000</td>\n",
              "      <td>59.000000</td>\n",
              "      <td>42.000000</td>\n",
              "      <td>14.844926</td>\n",
              "      <td>38.600000</td>\n",
              "      <td>4.000000</td>\n",
              "      <td>4.000000</td>\n",
              "      <td>3.000000</td>\n",
              "      <td>33.000000</td>\n",
              "      <td>4.000000</td>\n",
              "      <td>4.000000</td>\n",
              "      <td>0.340000</td>\n",
              "      <td>0.300000</td>\n",
              "      <td>0.300000</td>\n",
              "      <td>0.330000</td>\n",
              "      <td>0.330000</td>\n",
              "    </tr>\n",
              "    <tr>\n",
              "      <th>25%</th>\n",
              "      <td>117.000000</td>\n",
              "      <td>97.000000</td>\n",
              "      <td>111.000000</td>\n",
              "      <td>106.000000</td>\n",
              "      <td>23.598006</td>\n",
              "      <td>66.500000</td>\n",
              "      <td>13.000000</td>\n",
              "      <td>13.000000</td>\n",
              "      <td>12.000000</td>\n",
              "      <td>91.000000</td>\n",
              "      <td>13.000000</td>\n",
              "      <td>13.000000</td>\n",
              "      <td>0.750000</td>\n",
              "      <td>0.710000</td>\n",
              "      <td>0.710000</td>\n",
              "      <td>0.780000</td>\n",
              "      <td>0.780000</td>\n",
              "    </tr>\n",
              "    <tr>\n",
              "      <th>50%</th>\n",
              "      <td>150.000000</td>\n",
              "      <td>133.000000</td>\n",
              "      <td>140.000000</td>\n",
              "      <td>134.000000</td>\n",
              "      <td>27.564749</td>\n",
              "      <td>80.000000</td>\n",
              "      <td>19.000000</td>\n",
              "      <td>19.000000</td>\n",
              "      <td>17.000000</td>\n",
              "      <td>108.000000</td>\n",
              "      <td>18.000000</td>\n",
              "      <td>18.000000</td>\n",
              "      <td>1.000000</td>\n",
              "      <td>0.940000</td>\n",
              "      <td>0.970000</td>\n",
              "      <td>1.010000</td>\n",
              "      <td>1.010000</td>\n",
              "    </tr>\n",
              "    <tr>\n",
              "      <th>75%</th>\n",
              "      <td>200.000000</td>\n",
              "      <td>195.000000</td>\n",
              "      <td>189.000000</td>\n",
              "      <td>179.000000</td>\n",
              "      <td>32.803127</td>\n",
              "      <td>96.800000</td>\n",
              "      <td>31.000000</td>\n",
              "      <td>31.000000</td>\n",
              "      <td>29.000000</td>\n",
              "      <td>131.000000</td>\n",
              "      <td>30.000000</td>\n",
              "      <td>30.000000</td>\n",
              "      <td>1.510000</td>\n",
              "      <td>1.400000</td>\n",
              "      <td>1.530000</td>\n",
              "      <td>1.530000</td>\n",
              "      <td>1.540000</td>\n",
              "    </tr>\n",
              "    <tr>\n",
              "      <th>max</th>\n",
              "      <td>611.000000</td>\n",
              "      <td>598.700000</td>\n",
              "      <td>695.045000</td>\n",
              "      <td>670.000000</td>\n",
              "      <td>67.814990</td>\n",
              "      <td>186.000000</td>\n",
              "      <td>126.000000</td>\n",
              "      <td>127.000000</td>\n",
              "      <td>113.090000</td>\n",
              "      <td>288.000000</td>\n",
              "      <td>135.000000</td>\n",
              "      <td>135.000000</td>\n",
              "      <td>11.110000</td>\n",
              "      <td>9.937900</td>\n",
              "      <td>11.180000</td>\n",
              "      <td>11.571000</td>\n",
              "      <td>11.604200</td>\n",
              "    </tr>\n",
              "  </tbody>\n",
              "</table>\n",
              "</div>"
            ],
            "text/plain": [
              "       d1_glucose_max  glucose_apache  ...  h1_creatinine_min  h1_creatinine_max\n",
              "count   121914.000000   115461.000000  ...       25373.000000       25373.000000\n",
              "mean       174.149802      160.141416  ...           1.524339           1.526582\n",
              "std         86.545466       90.701327  ...           1.570070           1.572771\n",
              "min         73.000000       39.000000  ...           0.330000           0.330000\n",
              "25%        117.000000       97.000000  ...           0.780000           0.780000\n",
              "50%        150.000000      133.000000  ...           1.010000           1.010000\n",
              "75%        200.000000      195.000000  ...           1.530000           1.540000\n",
              "max        611.000000      598.700000  ...          11.571000          11.604200\n",
              "\n",
              "[8 rows x 17 columns]"
            ]
          },
          "metadata": {
            "tags": []
          },
          "execution_count": 17
        }
      ]
    },
    {
      "cell_type": "code",
      "metadata": {
        "id": "m16ALiToUMB2"
      },
      "source": [
        ""
      ],
      "execution_count": 17,
      "outputs": []
    },
    {
      "cell_type": "code",
      "metadata": {
        "id": "GOmEPmdlUMB2",
        "colab": {
          "base_uri": "https://localhost:8080/"
        },
        "outputId": "2ae4f8b1-324b-4e74-fd95-b1b88a175bcf"
      },
      "source": [
        "x_df.isna().any()"
      ],
      "execution_count": 18,
      "outputs": [
        {
          "output_type": "execute_result",
          "data": {
            "text/plain": [
              "d1_glucose_max       True\n",
              "glucose_apache       True\n",
              "h1_glucose_max       True\n",
              "h1_glucose_min       True\n",
              "bmi                  True\n",
              "weight               True\n",
              "d1_bun_max           True\n",
              "bun_apache           True\n",
              "d1_bun_min           True\n",
              "d1_glucose_min       True\n",
              "h1_bun_min           True\n",
              "h1_bun_max           True\n",
              "d1_creatinine_max    True\n",
              "d1_creatinine_min    True\n",
              "creatinine_apache    True\n",
              "h1_creatinine_min    True\n",
              "h1_creatinine_max    True\n",
              "dtype: bool"
            ]
          },
          "metadata": {
            "tags": []
          },
          "execution_count": 18
        }
      ]
    },
    {
      "cell_type": "code",
      "metadata": {
        "id": "vnae08EYUMB2"
      },
      "source": [
        ""
      ],
      "execution_count": 18,
      "outputs": []
    },
    {
      "cell_type": "code",
      "metadata": {
        "id": "15KA2IujUMB3",
        "colab": {
          "base_uri": "https://localhost:8080/",
          "height": 717
        },
        "outputId": "953af5eb-1a39-458c-c386-af130a72dc98"
      },
      "source": [
        "from sklearn.impute import SimpleImputer \n",
        "  \n",
        "# Imputer object using the mean strategy and  \n",
        "# missing_values type for imputation \n",
        "imputer = SimpleImputer(missing_values = np.nan,  \n",
        "                        strategy ='mean')\n",
        "\n",
        "\n",
        "print(\"Original Data : \\n\", x_df) \n",
        "# Fitting the data to the imputer object \n",
        "imputer = imputer.fit(x_df) \n",
        "  \n",
        "# Imputing the data      \n",
        "x_df = imputer.transform(x_df) \n",
        "  \n",
        "print(\"Imputed Data : \\n\", x_df)\n",
        "\n",
        "x_df = pd.DataFrame.from_records(x_df)\n",
        "x_df.head()"
      ],
      "execution_count": 19,
      "outputs": [
        {
          "output_type": "stream",
          "text": [
            "Original Data : \n",
            "         d1_glucose_max  glucose_apache  ...  h1_creatinine_min  h1_creatinine_max\n",
            "0                168.0           168.0  ...                NaN                NaN\n",
            "1                145.0           145.0  ...               0.56               0.56\n",
            "2                  NaN             NaN  ...                NaN                NaN\n",
            "3                185.0           185.0  ...                NaN                NaN\n",
            "4                  NaN             NaN  ...                NaN                NaN\n",
            "...                ...             ...  ...                ...                ...\n",
            "130152             NaN             NaN  ...                NaN                NaN\n",
            "130153           139.0           139.0  ...                NaN                NaN\n",
            "130154           346.0           346.0  ...                NaN                NaN\n",
            "130155           156.0           137.0  ...                NaN                NaN\n",
            "130156           100.0             NaN  ...               1.06               1.06\n",
            "\n",
            "[130157 rows x 17 columns]\n",
            "Imputed Data : \n",
            " [[168.         168.         167.70262463 ...   2.51         1.52433882\n",
            "    1.52658174]\n",
            " [145.         145.         145.         ...   0.56         0.56\n",
            "    0.56      ]\n",
            " [174.14980232 160.14141572 167.70262463 ...   1.48162935   1.52433882\n",
            "    1.52658174]\n",
            " ...\n",
            " [346.         346.         167.70262463 ...   2.43         1.52433882\n",
            "    1.52658174]\n",
            " [156.         137.         167.70262463 ...   1.48162935   1.52433882\n",
            "    1.52658174]\n",
            " [100.         160.14141572 100.         ...   1.48162935   1.06\n",
            "    1.06      ]]\n"
          ],
          "name": "stdout"
        },
        {
          "output_type": "execute_result",
          "data": {
            "text/html": [
              "<div>\n",
              "<style scoped>\n",
              "    .dataframe tbody tr th:only-of-type {\n",
              "        vertical-align: middle;\n",
              "    }\n",
              "\n",
              "    .dataframe tbody tr th {\n",
              "        vertical-align: top;\n",
              "    }\n",
              "\n",
              "    .dataframe thead th {\n",
              "        text-align: right;\n",
              "    }\n",
              "</style>\n",
              "<table border=\"1\" class=\"dataframe\">\n",
              "  <thead>\n",
              "    <tr style=\"text-align: right;\">\n",
              "      <th></th>\n",
              "      <th>0</th>\n",
              "      <th>1</th>\n",
              "      <th>2</th>\n",
              "      <th>3</th>\n",
              "      <th>4</th>\n",
              "      <th>5</th>\n",
              "      <th>6</th>\n",
              "      <th>7</th>\n",
              "      <th>8</th>\n",
              "      <th>9</th>\n",
              "      <th>10</th>\n",
              "      <th>11</th>\n",
              "      <th>12</th>\n",
              "      <th>13</th>\n",
              "      <th>14</th>\n",
              "      <th>15</th>\n",
              "      <th>16</th>\n",
              "    </tr>\n",
              "  </thead>\n",
              "  <tbody>\n",
              "    <tr>\n",
              "      <th>0</th>\n",
              "      <td>168.000000</td>\n",
              "      <td>168.000000</td>\n",
              "      <td>167.702625</td>\n",
              "      <td>158.908794</td>\n",
              "      <td>22.732803</td>\n",
              "      <td>73.900000</td>\n",
              "      <td>31.000000</td>\n",
              "      <td>31.00000</td>\n",
              "      <td>30.000000</td>\n",
              "      <td>109.00000</td>\n",
              "      <td>25.606374</td>\n",
              "      <td>25.63122</td>\n",
              "      <td>2.510000</td>\n",
              "      <td>2.230000</td>\n",
              "      <td>2.510000</td>\n",
              "      <td>1.524339</td>\n",
              "      <td>1.526582</td>\n",
              "    </tr>\n",
              "    <tr>\n",
              "      <th>1</th>\n",
              "      <td>145.000000</td>\n",
              "      <td>145.000000</td>\n",
              "      <td>145.000000</td>\n",
              "      <td>143.000000</td>\n",
              "      <td>27.421875</td>\n",
              "      <td>70.200000</td>\n",
              "      <td>11.000000</td>\n",
              "      <td>9.00000</td>\n",
              "      <td>9.000000</td>\n",
              "      <td>128.00000</td>\n",
              "      <td>9.000000</td>\n",
              "      <td>9.00000</td>\n",
              "      <td>0.710000</td>\n",
              "      <td>0.560000</td>\n",
              "      <td>0.560000</td>\n",
              "      <td>0.560000</td>\n",
              "      <td>0.560000</td>\n",
              "    </tr>\n",
              "    <tr>\n",
              "      <th>2</th>\n",
              "      <td>174.149802</td>\n",
              "      <td>160.141416</td>\n",
              "      <td>167.702625</td>\n",
              "      <td>158.908794</td>\n",
              "      <td>31.952749</td>\n",
              "      <td>95.300000</td>\n",
              "      <td>25.578808</td>\n",
              "      <td>25.71807</td>\n",
              "      <td>23.554154</td>\n",
              "      <td>114.44031</td>\n",
              "      <td>25.606374</td>\n",
              "      <td>25.63122</td>\n",
              "      <td>1.493531</td>\n",
              "      <td>1.363795</td>\n",
              "      <td>1.481629</td>\n",
              "      <td>1.524339</td>\n",
              "      <td>1.526582</td>\n",
              "    </tr>\n",
              "    <tr>\n",
              "      <th>3</th>\n",
              "      <td>185.000000</td>\n",
              "      <td>185.000000</td>\n",
              "      <td>167.702625</td>\n",
              "      <td>158.908794</td>\n",
              "      <td>22.635548</td>\n",
              "      <td>61.700000</td>\n",
              "      <td>25.578808</td>\n",
              "      <td>25.71807</td>\n",
              "      <td>23.554154</td>\n",
              "      <td>88.00000</td>\n",
              "      <td>25.606374</td>\n",
              "      <td>25.63122</td>\n",
              "      <td>1.493531</td>\n",
              "      <td>1.363795</td>\n",
              "      <td>1.481629</td>\n",
              "      <td>1.524339</td>\n",
              "      <td>1.526582</td>\n",
              "    </tr>\n",
              "    <tr>\n",
              "      <th>4</th>\n",
              "      <td>174.149802</td>\n",
              "      <td>160.141416</td>\n",
              "      <td>167.702625</td>\n",
              "      <td>158.908794</td>\n",
              "      <td>29.110260</td>\n",
              "      <td>83.791104</td>\n",
              "      <td>25.578808</td>\n",
              "      <td>25.71807</td>\n",
              "      <td>23.554154</td>\n",
              "      <td>114.44031</td>\n",
              "      <td>25.606374</td>\n",
              "      <td>25.63122</td>\n",
              "      <td>1.493531</td>\n",
              "      <td>1.363795</td>\n",
              "      <td>1.481629</td>\n",
              "      <td>1.524339</td>\n",
              "      <td>1.526582</td>\n",
              "    </tr>\n",
              "  </tbody>\n",
              "</table>\n",
              "</div>"
            ],
            "text/plain": [
              "           0           1           2   ...        14        15        16\n",
              "0  168.000000  168.000000  167.702625  ...  2.510000  1.524339  1.526582\n",
              "1  145.000000  145.000000  145.000000  ...  0.560000  0.560000  0.560000\n",
              "2  174.149802  160.141416  167.702625  ...  1.481629  1.524339  1.526582\n",
              "3  185.000000  185.000000  167.702625  ...  1.481629  1.524339  1.526582\n",
              "4  174.149802  160.141416  167.702625  ...  1.481629  1.524339  1.526582\n",
              "\n",
              "[5 rows x 17 columns]"
            ]
          },
          "metadata": {
            "tags": []
          },
          "execution_count": 19
        }
      ]
    },
    {
      "cell_type": "code",
      "metadata": {
        "id": "aTz2MDmTUMB3",
        "colab": {
          "base_uri": "https://localhost:8080/"
        },
        "outputId": "dfa52073-759b-42de-f1fa-a84d815dd6fb"
      },
      "source": [
        "x_df.isna().any()"
      ],
      "execution_count": 20,
      "outputs": [
        {
          "output_type": "execute_result",
          "data": {
            "text/plain": [
              "0     False\n",
              "1     False\n",
              "2     False\n",
              "3     False\n",
              "4     False\n",
              "5     False\n",
              "6     False\n",
              "7     False\n",
              "8     False\n",
              "9     False\n",
              "10    False\n",
              "11    False\n",
              "12    False\n",
              "13    False\n",
              "14    False\n",
              "15    False\n",
              "16    False\n",
              "dtype: bool"
            ]
          },
          "metadata": {
            "tags": []
          },
          "execution_count": 20
        }
      ]
    },
    {
      "cell_type": "code",
      "metadata": {
        "id": "T_ATs-qyUMB3"
      },
      "source": [
        "from sklearn.linear_model import LogisticRegression\n",
        "model = LogisticRegression()"
      ],
      "execution_count": 21,
      "outputs": []
    },
    {
      "cell_type": "code",
      "metadata": {
        "id": "RnM6JLh_UMB4",
        "colab": {
          "base_uri": "https://localhost:8080/"
        },
        "outputId": "aba2b7a1-4601-40ad-bf1a-712c15ffeacb"
      },
      "source": [
        "model = model.fit(x_df,y)"
      ],
      "execution_count": 22,
      "outputs": [
        {
          "output_type": "stream",
          "text": [
            "/usr/local/lib/python3.6/dist-packages/sklearn/linear_model/_logistic.py:940: ConvergenceWarning: lbfgs failed to converge (status=1):\n",
            "STOP: TOTAL NO. of ITERATIONS REACHED LIMIT.\n",
            "\n",
            "Increase the number of iterations (max_iter) or scale the data as shown in:\n",
            "    https://scikit-learn.org/stable/modules/preprocessing.html\n",
            "Please also refer to the documentation for alternative solver options:\n",
            "    https://scikit-learn.org/stable/modules/linear_model.html#logistic-regression\n",
            "  extra_warning_msg=_LOGISTIC_SOLVER_CONVERGENCE_MSG)\n"
          ],
          "name": "stderr"
        }
      ]
    },
    {
      "cell_type": "code",
      "metadata": {
        "id": "p7XW8r4lUMB4"
      },
      "source": [
        "test=pd.read_csv(\"UnlabeledWiDS2021.csv\")"
      ],
      "execution_count": 23,
      "outputs": []
    },
    {
      "cell_type": "code",
      "metadata": {
        "id": "-KF6MNPhUMB4",
        "colab": {
          "base_uri": "https://localhost:8080/"
        },
        "outputId": "a3218f9d-309a-4e57-91b5-c98d2f1145ae"
      },
      "source": [
        "test.shape"
      ],
      "execution_count": 24,
      "outputs": [
        {
          "output_type": "execute_result",
          "data": {
            "text/plain": [
              "(10234, 180)"
            ]
          },
          "metadata": {
            "tags": []
          },
          "execution_count": 24
        }
      ]
    },
    {
      "cell_type": "code",
      "metadata": {
        "id": "b5LX-PNxUMB4",
        "colab": {
          "base_uri": "https://localhost:8080/"
        },
        "outputId": "4a70db3b-9b46-47db-c431-a76520b07f93"
      },
      "source": [
        "test=test[[\"d1_glucose_max\",\"glucose_apache\",\"h1_glucose_max\",\"h1_glucose_min\",\"bmi\",\"weight\",\"d1_bun_max\",\n",
        "          \"bun_apache\",\"d1_bun_min\",\"d1_glucose_min\",\"h1_bun_min\",\"h1_bun_max\",\"d1_creatinine_max\",\n",
        "          \"d1_creatinine_min\",\"creatinine_apache\",\"h1_creatinine_min\",\"h1_creatinine_max\"]].values\n",
        "test.shape"
      ],
      "execution_count": 25,
      "outputs": [
        {
          "output_type": "execute_result",
          "data": {
            "text/plain": [
              "(10234, 17)"
            ]
          },
          "metadata": {
            "tags": []
          },
          "execution_count": 25
        }
      ]
    },
    {
      "cell_type": "code",
      "metadata": {
        "id": "nmh8hUsqUMB5",
        "colab": {
          "base_uri": "https://localhost:8080/",
          "height": 598
        },
        "outputId": "6e55b065-a9b3-4da3-8567-16c672fc7b0e"
      },
      "source": [
        "from sklearn.impute import SimpleImputer \n",
        "  \n",
        "# Imputer object using the mean strategy and  \n",
        "# missing_values type for imputation \n",
        "imputer = SimpleImputer(missing_values = np.nan,  \n",
        "                        strategy ='mean')\n",
        "\n",
        "\n",
        "print(\"Original Data : \\n\", test) \n",
        "# Fitting the data to the imputer object \n",
        "imputer = imputer.fit(test) \n",
        "  \n",
        "# Imputing the data      \n",
        "test = imputer.transform(test) \n",
        "  \n",
        "print(\"Imputed Data : \\n\", test)\n",
        "\n",
        "test = pd.DataFrame.from_records(test)\n",
        "test.head()"
      ],
      "execution_count": 26,
      "outputs": [
        {
          "output_type": "stream",
          "text": [
            "Original Data : \n",
            " [[104.    97.   104.   ...   1.49   1.49   1.49]\n",
            " [102.    73.      nan ...   0.92    nan    nan]\n",
            " [141.    84.    84.   ...   0.77   0.77   0.77]\n",
            " ...\n",
            " [150.      nan    nan ...    nan    nan    nan]\n",
            " [ 98.      nan    nan ...    nan    nan    nan]\n",
            " [   nan    nan    nan ...    nan    nan    nan]]\n",
            "Imputed Data : \n",
            " [[104.          97.         104.         ...   1.49         1.49\n",
            "    1.49      ]\n",
            " [102.          73.         167.16205938 ...   0.92         1.48981976\n",
            "    1.49149801]\n",
            " [141.          84.          84.         ...   0.77         0.77\n",
            "    0.77      ]\n",
            " ...\n",
            " [150.         161.39923648 167.16205938 ...   1.39752185   1.48981976\n",
            "    1.49149801]\n",
            " [ 98.         161.39923648 167.16205938 ...   1.39752185   1.48981976\n",
            "    1.49149801]\n",
            " [174.31725741 161.39923648 167.16205938 ...   1.39752185   1.48981976\n",
            "    1.49149801]]\n"
          ],
          "name": "stdout"
        },
        {
          "output_type": "execute_result",
          "data": {
            "text/html": [
              "<div>\n",
              "<style scoped>\n",
              "    .dataframe tbody tr th:only-of-type {\n",
              "        vertical-align: middle;\n",
              "    }\n",
              "\n",
              "    .dataframe tbody tr th {\n",
              "        vertical-align: top;\n",
              "    }\n",
              "\n",
              "    .dataframe thead th {\n",
              "        text-align: right;\n",
              "    }\n",
              "</style>\n",
              "<table border=\"1\" class=\"dataframe\">\n",
              "  <thead>\n",
              "    <tr style=\"text-align: right;\">\n",
              "      <th></th>\n",
              "      <th>0</th>\n",
              "      <th>1</th>\n",
              "      <th>2</th>\n",
              "      <th>3</th>\n",
              "      <th>4</th>\n",
              "      <th>5</th>\n",
              "      <th>6</th>\n",
              "      <th>7</th>\n",
              "      <th>8</th>\n",
              "      <th>9</th>\n",
              "      <th>10</th>\n",
              "      <th>11</th>\n",
              "      <th>12</th>\n",
              "      <th>13</th>\n",
              "      <th>14</th>\n",
              "      <th>15</th>\n",
              "      <th>16</th>\n",
              "    </tr>\n",
              "  </thead>\n",
              "  <tbody>\n",
              "    <tr>\n",
              "      <th>0</th>\n",
              "      <td>104.0</td>\n",
              "      <td>97.000000</td>\n",
              "      <td>104.000000</td>\n",
              "      <td>104.00000</td>\n",
              "      <td>29.116463</td>\n",
              "      <td>83.478729</td>\n",
              "      <td>44.0</td>\n",
              "      <td>44.000000</td>\n",
              "      <td>40.0</td>\n",
              "      <td>97.0</td>\n",
              "      <td>40.000000</td>\n",
              "      <td>40.000000</td>\n",
              "      <td>1.49</td>\n",
              "      <td>1.44</td>\n",
              "      <td>1.490000</td>\n",
              "      <td>1.49000</td>\n",
              "      <td>1.490000</td>\n",
              "    </tr>\n",
              "    <tr>\n",
              "      <th>1</th>\n",
              "      <td>102.0</td>\n",
              "      <td>73.000000</td>\n",
              "      <td>167.162059</td>\n",
              "      <td>159.06894</td>\n",
              "      <td>29.116463</td>\n",
              "      <td>83.478729</td>\n",
              "      <td>19.0</td>\n",
              "      <td>19.000000</td>\n",
              "      <td>19.0</td>\n",
              "      <td>73.0</td>\n",
              "      <td>25.338942</td>\n",
              "      <td>25.367385</td>\n",
              "      <td>1.00</td>\n",
              "      <td>1.00</td>\n",
              "      <td>0.920000</td>\n",
              "      <td>1.48982</td>\n",
              "      <td>1.491498</td>\n",
              "    </tr>\n",
              "    <tr>\n",
              "      <th>2</th>\n",
              "      <td>141.0</td>\n",
              "      <td>84.000000</td>\n",
              "      <td>84.000000</td>\n",
              "      <td>84.00000</td>\n",
              "      <td>29.116463</td>\n",
              "      <td>83.478729</td>\n",
              "      <td>24.0</td>\n",
              "      <td>24.000000</td>\n",
              "      <td>16.0</td>\n",
              "      <td>84.0</td>\n",
              "      <td>16.000000</td>\n",
              "      <td>16.000000</td>\n",
              "      <td>0.82</td>\n",
              "      <td>0.77</td>\n",
              "      <td>0.770000</td>\n",
              "      <td>0.77000</td>\n",
              "      <td>0.770000</td>\n",
              "    </tr>\n",
              "    <tr>\n",
              "      <th>3</th>\n",
              "      <td>84.0</td>\n",
              "      <td>161.399236</td>\n",
              "      <td>167.162059</td>\n",
              "      <td>159.06894</td>\n",
              "      <td>29.116463</td>\n",
              "      <td>83.478729</td>\n",
              "      <td>27.0</td>\n",
              "      <td>25.110221</td>\n",
              "      <td>27.0</td>\n",
              "      <td>84.0</td>\n",
              "      <td>25.338942</td>\n",
              "      <td>25.367385</td>\n",
              "      <td>1.55</td>\n",
              "      <td>1.55</td>\n",
              "      <td>1.397522</td>\n",
              "      <td>1.48982</td>\n",
              "      <td>1.491498</td>\n",
              "    </tr>\n",
              "    <tr>\n",
              "      <th>4</th>\n",
              "      <td>159.0</td>\n",
              "      <td>99.000000</td>\n",
              "      <td>149.000000</td>\n",
              "      <td>149.00000</td>\n",
              "      <td>29.116463</td>\n",
              "      <td>83.478729</td>\n",
              "      <td>26.0</td>\n",
              "      <td>26.000000</td>\n",
              "      <td>25.0</td>\n",
              "      <td>99.0</td>\n",
              "      <td>26.000000</td>\n",
              "      <td>26.000000</td>\n",
              "      <td>1.50</td>\n",
              "      <td>1.30</td>\n",
              "      <td>1.500000</td>\n",
              "      <td>1.50000</td>\n",
              "      <td>1.500000</td>\n",
              "    </tr>\n",
              "  </tbody>\n",
              "</table>\n",
              "</div>"
            ],
            "text/plain": [
              "      0           1           2          3   ...    13        14       15        16\n",
              "0  104.0   97.000000  104.000000  104.00000  ...  1.44  1.490000  1.49000  1.490000\n",
              "1  102.0   73.000000  167.162059  159.06894  ...  1.00  0.920000  1.48982  1.491498\n",
              "2  141.0   84.000000   84.000000   84.00000  ...  0.77  0.770000  0.77000  0.770000\n",
              "3   84.0  161.399236  167.162059  159.06894  ...  1.55  1.397522  1.48982  1.491498\n",
              "4  159.0   99.000000  149.000000  149.00000  ...  1.30  1.500000  1.50000  1.500000\n",
              "\n",
              "[5 rows x 17 columns]"
            ]
          },
          "metadata": {
            "tags": []
          },
          "execution_count": 26
        }
      ]
    },
    {
      "cell_type": "code",
      "metadata": {
        "id": "JBdhnySyUMB5",
        "colab": {
          "base_uri": "https://localhost:8080/"
        },
        "outputId": "6531d51b-bdc6-40a1-fc80-eb0fc28c31f3"
      },
      "source": [
        "y_predict = model.predict(x_df)\n",
        "print(y_predict.shape)\n",
        "print(y.shape)"
      ],
      "execution_count": 27,
      "outputs": [
        {
          "output_type": "stream",
          "text": [
            "(130157,)\n",
            "(130157,)\n"
          ],
          "name": "stdout"
        }
      ]
    },
    {
      "cell_type": "code",
      "metadata": {
        "id": "ScqhetfjUMB5",
        "colab": {
          "base_uri": "https://localhost:8080/"
        },
        "outputId": "c40bbc15-092e-469d-deb8-853b6e23a48d"
      },
      "source": [
        "from sklearn.metrics import accuracy_score\n",
        "\n",
        "accuracy_score(y, y_predict)"
      ],
      "execution_count": 28,
      "outputs": [
        {
          "output_type": "execute_result",
          "data": {
            "text/plain": [
              "0.7896309841191791"
            ]
          },
          "metadata": {
            "tags": []
          },
          "execution_count": 28
        }
      ]
    },
    {
      "cell_type": "code",
      "metadata": {
        "id": "Nl-VG4WXUMB6"
      },
      "source": [
        ""
      ],
      "execution_count": 28,
      "outputs": []
    }
  ]
}